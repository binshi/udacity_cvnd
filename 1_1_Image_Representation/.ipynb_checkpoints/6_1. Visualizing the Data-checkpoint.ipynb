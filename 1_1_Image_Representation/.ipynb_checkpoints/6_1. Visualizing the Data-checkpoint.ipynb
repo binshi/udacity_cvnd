{
 "cells": [
  {
   "cell_type": "markdown",
   "metadata": {},
   "source": [
    "# Day and Night Image Classifier\n",
    "---\n",
    "\n",
    "The day/night image dataset consists of 200 RGB color images in two categories: day and night. There are equal numbers of each example: 100 day images and 100 night images.\n",
    "\n",
    "We'd like to build a classifier that can accurately label these images as day or night, and that relies on finding distinguishing features between the two types of images!\n",
    "\n",
    "*Note: All images come from the [AMOS dataset](http://cs.uky.edu/~jacobs/datasets/amos/) (Archive of Many Outdoor Scenes).*\n"
   ]
  },
  {
   "cell_type": "markdown",
   "metadata": {},
   "source": [
    "### Import resources\n",
    "\n",
    "Before you get started on the project code, import the libraries and resources that you'll need."
   ]
  },
  {
   "cell_type": "code",
   "execution_count": 1,
   "metadata": {},
   "outputs": [],
   "source": [
    "import cv2 # computer vision library\n",
    "import helpers\n",
    "\n",
    "import numpy as np\n",
    "import matplotlib.pyplot as plt\n",
    "import matplotlib.image as mpimg\n",
    "\n",
    "%matplotlib inline"
   ]
  },
  {
   "cell_type": "markdown",
   "metadata": {},
   "source": [
    "## Training and Testing Data\n",
    "The 200 day/night images are separated into training and testing datasets. \n",
    "\n",
    "* 60% of these images are training images, for you to use as you create a classifier.\n",
    "* 40% are test images, which will be used to test the accuracy of your classifier.\n",
    "\n",
    "First, we set some variables to keep track of some where our images are stored:\n",
    "\n",
    "    image_dir_training: the directory where our training image data is stored\n",
    "    image_dir_test: the directory where our test image data is stored"
   ]
  },
  {
   "cell_type": "code",
   "execution_count": 2,
   "metadata": {},
   "outputs": [],
   "source": [
    "# Image data directories\n",
    "image_dir_training = \"day_night_images/training/\"\n",
    "image_dir_test = \"day_night_images/test/\""
   ]
  },
  {
   "cell_type": "markdown",
   "metadata": {},
   "source": [
    "## Load the datasets\n",
    "\n",
    "These first few lines of code will load the training day/night images and store all of them in a variable, `IMAGE_LIST`. This list contains the images and their associated label (\"day\" or \"night\"). \n",
    "\n",
    "For example, the first image-label pair in `IMAGE_LIST` can be accessed by index: \n",
    "``` IMAGE_LIST[0][:]```.\n"
   ]
  },
  {
   "cell_type": "code",
   "execution_count": 3,
   "metadata": {},
   "outputs": [],
   "source": [
    "# Using the load_dataset function in helpers.py\n",
    "# Load training data\n",
    "IMAGE_LIST = helpers.load_dataset(image_dir_training)\n"
   ]
  },
  {
   "cell_type": "markdown",
   "metadata": {},
   "source": [
    "---\n",
    "# 1. Visualize the input images\n"
   ]
  },
  {
   "cell_type": "code",
   "execution_count": 5,
   "metadata": {},
   "outputs": [
    {
     "name": "stdout",
     "output_type": "stream",
     "text": [
      "[[[253 255 252]\n",
      "  [253 255 252]\n",
      "  [253 255 252]\n",
      "  ...\n",
      "  [ 75  93  93]\n",
      "  [ 73  91  91]\n",
      "  [ 74  92  92]]\n",
      "\n",
      " [[253 255 252]\n",
      "  [253 255 252]\n",
      "  [253 255 252]\n",
      "  ...\n",
      "  [ 77  95  95]\n",
      "  [ 76  94  94]\n",
      "  [ 78  96  96]]\n",
      "\n",
      " [[253 255 252]\n",
      "  [253 255 252]\n",
      "  [253 255 252]\n",
      "  ...\n",
      "  [ 75  93  93]\n",
      "  [ 74  92  92]\n",
      "  [ 76  94  94]]\n",
      "\n",
      " ...\n",
      "\n",
      " [[108 112 113]\n",
      "  [ 98 102 103]\n",
      "  [ 90  94  95]\n",
      "  ...\n",
      "  [ 43  45  32]\n",
      "  [ 45  47  34]\n",
      "  [ 48  50  37]]\n",
      "\n",
      " [[107 111 112]\n",
      "  [ 97 101 102]\n",
      "  [ 90  94  95]\n",
      "  ...\n",
      "  [ 42  44  31]\n",
      "  [ 45  47  34]\n",
      "  [ 48  50  37]]\n",
      "\n",
      " [[100 104 105]\n",
      "  [ 91  95  96]\n",
      "  [ 86  90  91]\n",
      "  ...\n",
      "  [ 42  44  31]\n",
      "  [ 46  48  35]\n",
      "  [ 48  50  37]]]\n",
      "day\n"
     ]
    }
   ],
   "source": [
    "# Select an image and its label by list index\n",
    "image_index = 0\n",
    "selected_image = IMAGE_LIST[image_index][0]\n",
    "selected_label = IMAGE_LIST[image_index][1]\n",
    "\n",
    "## TODO: Print out 1. The shape of the image and 2. The image's label `selected_label`\n",
    "print(selected_image)\n",
    "print(selected_label)\n",
    "\n",
    "## TODO: Display a night image\n",
    "\n",
    "# Note the differences between the day and night images\n",
    "# Any measurable differences can be used to classify these images"
   ]
  },
  {
   "cell_type": "code",
   "execution_count": null,
   "metadata": {
    "collapsed": true
   },
   "outputs": [],
   "source": []
  }
 ],
 "metadata": {
  "anaconda-cloud": {},
  "kernelspec": {
   "display_name": "Python 3",
   "language": "python",
   "name": "python3"
  },
  "language_info": {
   "codemirror_mode": {
    "name": "ipython",
    "version": 3
   },
   "file_extension": ".py",
   "mimetype": "text/x-python",
   "name": "python",
   "nbconvert_exporter": "python",
   "pygments_lexer": "ipython3",
   "version": "3.7.1"
  }
 },
 "nbformat": 4,
 "nbformat_minor": 2
}
